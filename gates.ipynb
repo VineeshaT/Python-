{
 "cells": [
  {
   "cell_type": "code",
   "execution_count": 1,
   "metadata": {},
   "outputs": [
    {
     "name": "stdout",
     "output_type": "stream",
     "text": [
      "7\n"
     ]
    }
   ],
   "source": [
    "#apple / TCS - Question is to find how many closed gates are still not closed?\n",
    "gates = \"{{()090([]]]]}\"\n",
    "\n",
    "open = \"{[0(\"\n",
    "close = \"}]9)\"\n",
    "\n",
    "open_count=0\n",
    "\n",
    "for i in gates :\n",
    "    if i in open :\n",
    "        open_count = open_count+1\n",
    "\n",
    "#Find the count of the open gates \n",
    "print(open_count)"
   ]
  },
  {
   "cell_type": "code",
   "execution_count": 5,
   "metadata": {},
   "outputs": [
    {
     "name": "stdout",
     "output_type": "stream",
     "text": [
      "No of open gates 7\n",
      "No of close gates 7\n",
      "True\n"
     ]
    }
   ],
   "source": [
    "#apple / TCS - Question is to find how many closed gates are still not closed?\n",
    "gates = \"{{()090([]]]]}\"\n",
    "\n",
    "open = \"{[0(\"\n",
    "close = \"}]9)\"\n",
    "\n",
    "open_count=0\n",
    "close_count = 0\n",
    "\n",
    "for i in gates :\n",
    "    if i in open :\n",
    "        open_count = open_count+1\n",
    "    else:\n",
    "        close_count = close_count+1\n",
    "\n",
    "#Find the count of the open & Close gates \n",
    "print(\"No of open gates\",open_count)\n",
    "print(\"No of close gates\",close_count)\n",
    "\n",
    "#comparing the open and close gates\n",
    "if(open_count == close_count):\n",
    "    print(True)\n",
    "else:\n",
    "    print(False)"
   ]
  },
  {
   "cell_type": "code",
   "execution_count": 14,
   "metadata": {},
   "outputs": [],
   "source": [
    "gates = \"{{()090([]]]]}\"\n",
    "open = \"{[0(\"\n",
    "close = \"}]9)\"\n",
    "\n",
    "open_count = 0\n",
    "close_count = 0\n",
    "\n",
    "for i, char in enumerate(gates):\n",
    "    if char in open:\n",
    "        open_count += 1\n",
    "    elif char in close:\n",
    "        close_count += 1\n",
    "        \n",
    "    if close_count > open_count:\n",
    "        print(f\"Index {i} is where the gate is not closed.\")\n",
    "        break\n"
   ]
  },
  {
   "cell_type": "code",
   "execution_count": 21,
   "metadata": {},
   "outputs": [
    {
     "name": "stdout",
     "output_type": "stream",
     "text": [
      "Number of gates still not closed: 0\n"
     ]
    }
   ],
   "source": [
    "gates = \"{{()090([]]]]}\"\n",
    "open = \"{[0(\"\n",
    "close = \"}]9)\"\n",
    "\n",
    "open_count = 0\n",
    "close_count = 0\n",
    "unclosed_gates_count = 0\n",
    "\n",
    "for i, char in enumerate(gates):\n",
    "    if char in open:\n",
    "        open_count += 1\n",
    "    elif char in close:\n",
    "        close_count += 1\n",
    "        if close_count > open_count:\n",
    "            unclosed_gates_count += 1\n",
    "            close_count -= 1  # Adjust close count for multiple unclosed gates\n",
    "\n",
    "print(f\"Number of gates still not closed: {unclosed_gates_count}\")\n"
   ]
  }
 ],
 "metadata": {
  "kernelspec": {
   "display_name": "Python 3",
   "language": "python",
   "name": "python3"
  },
  "language_info": {
   "codemirror_mode": {
    "name": "ipython",
    "version": 3
   },
   "file_extension": ".py",
   "mimetype": "text/x-python",
   "name": "python",
   "nbconvert_exporter": "python",
   "pygments_lexer": "ipython3",
   "version": "3.11.9"
  }
 },
 "nbformat": 4,
 "nbformat_minor": 2
}
