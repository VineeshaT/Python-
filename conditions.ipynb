{
 "cells": [
  {
   "cell_type": "code",
   "execution_count": 8,
   "metadata": {},
   "outputs": [
    {
     "name": "stdout",
     "output_type": "stream",
     "text": [
      "12\n"
     ]
    }
   ],
   "source": [
    "x = 2\n",
    "\n",
    "if x > 10 :\n",
    "    print(x)\n",
    "else:\n",
    "    x = x +10\n",
    "    print(x)"
   ]
  },
  {
   "cell_type": "code",
   "execution_count": 16,
   "metadata": {},
   "outputs": [
    {
     "name": "stdout",
     "output_type": "stream",
     "text": [
      "X is not greaterthan 10\n"
     ]
    }
   ],
   "source": [
    "x = 25\n",
    "\n",
    "if x > 1 and x <= 15:\n",
    "    x = x + 2\n",
    "    if x > 15 and x <= 20:\n",
    "        print(x)\n",
    "    else:\n",
    "        print(\"X is not in between 15 & 20\")\n",
    "elif x > 15 and x <= 30:\n",
    "    x = x-20\n",
    "    if x > 10 and x <=20:\n",
    "        print(x)\n",
    "    else:\n",
    "        print(\"X is not greaterthan 10\")\n",
    "else:\n",
    "    print(\"X is greaterthan 30\")"
   ]
  }
 ],
 "metadata": {
  "kernelspec": {
   "display_name": "Python 3",
   "language": "python",
   "name": "python3"
  },
  "language_info": {
   "codemirror_mode": {
    "name": "ipython",
    "version": 3
   },
   "file_extension": ".py",
   "mimetype": "text/x-python",
   "name": "python",
   "nbconvert_exporter": "python",
   "pygments_lexer": "ipython3",
   "version": "3.8.10"
  }
 },
 "nbformat": 4,
 "nbformat_minor": 2
}
