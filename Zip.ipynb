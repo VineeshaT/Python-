{
 "cells": [
  {
   "cell_type": "code",
   "execution_count": 5,
   "metadata": {},
   "outputs": [
    {
     "name": "stdout",
     "output_type": "stream",
     "text": [
      "[('John', 'Jenny'), ('Charles', 'Christy'), ('Mike', 'Monica')]\n"
     ]
    }
   ],
   "source": [
    "a = (\"John\", \"Charles\", \"Mike\")\n",
    "b = (\"Jenny\", \"Christy\", \"Monica\")\n",
    "\n",
    "x = zip(a, b)\n",
    "\n",
    "print(list(x))"
   ]
  },
  {
   "cell_type": "code",
   "execution_count": 4,
   "metadata": {},
   "outputs": [
    {
     "name": "stdout",
     "output_type": "stream",
     "text": [
      "[('Java', 14), ('Python', 3), ('JavaScript', 6)]\n"
     ]
    }
   ],
   "source": [
    "languages = ['Java', 'Python', 'JavaScript']\n",
    "versions = [14, 3, 6]\n",
    "\n",
    "result = zip(languages, versions)\n",
    "print(list(result))\n",
    "\n",
    "# Output: [('Java', 14), ('Python', 3), ('JavaScript', 6)]"
   ]
  },
  {
   "cell_type": "code",
   "execution_count": 6,
   "metadata": {},
   "outputs": [
    {
     "name": "stdout",
     "output_type": "stream",
     "text": [
      "{('Nikhil', 1), ('Astha', 2), ('Manjeet', 4), ('Shambhavi', 3)}\n"
     ]
    }
   ],
   "source": [
    "name = [ \"Manjeet\", \"Nikhil\", \"Shambhavi\", \"Astha\" ]\n",
    "roll_no = [ 4, 1, 3, 2 ]\n",
    " \n",
    "# using zip() to map values\n",
    "mapped = zip(name, roll_no)\n",
    " \n",
    "print(set(mapped))"
   ]
  },
  {
   "cell_type": "code",
   "execution_count": 7,
   "metadata": {},
   "outputs": [
    {
     "name": "stdout",
     "output_type": "stream",
     "text": [
      "0 Mukesh 24\n",
      "1 Roni 50\n",
      "2 Chari 18\n"
     ]
    }
   ],
   "source": [
    "names = ['Mukesh', 'Roni', 'Chari']\n",
    "ages = [24, 50, 18]\n",
    " \n",
    "for i, (name, age) in enumerate(zip(names, ages)):\n",
    "    print(i, name, age)"
   ]
  },
  {
   "cell_type": "code",
   "execution_count": 1,
   "metadata": {},
   "outputs": [
    {
     "name": "stdout",
     "output_type": "stream",
     "text": [
      "{'S&P': 2175, 'AT&T': 1127, 'Verizon': 2750}\n"
     ]
    }
   ],
   "source": [
    "stocks = ['S&P', 'AT&T', 'Verizon']\n",
    "prices = [2175, 1127, 2750]\n",
    " \n",
    "new_dict = {stocks: prices for stocks,prices in zip(stocks, prices)}\n",
    "print(new_dict)"
   ]
  },
  {
   "cell_type": "code",
   "execution_count": 10,
   "metadata": {},
   "outputs": [
    {
     "name": "stdout",
     "output_type": "stream",
     "text": [
      "[(1, 'a'), (2, 'b'), (3, 'c')]\n"
     ]
    }
   ],
   "source": [
    "tuple1 = (1, 2, 3)\n",
    "tuple2 = ('a', 'b', 'c')\n",
    "zipped = zip(tuple1, tuple2)\n",
    "result = list(zipped)\n",
    "print(result)"
   ]
  },
  {
   "cell_type": "code",
   "execution_count": 11,
   "metadata": {},
   "outputs": [
    {
     "name": "stdout",
     "output_type": "stream",
     "text": [
      "[(1, 'a', 'x'), (2, 'b', 'y'), (3, 'c', 'z')]\n"
     ]
    }
   ],
   "source": [
    "list1 = [1, 2, 3]\n",
    "list2 = ['a', 'b', 'c']\n",
    "list3 = ['x', 'y', 'z']\n",
    "zipped = zip(list1, list2, list3)\n",
    "result = list(zipped)\n",
    "print(result)"
   ]
  },
  {
   "cell_type": "code",
   "execution_count": 12,
   "metadata": {},
   "outputs": [
    {
     "name": "stdout",
     "output_type": "stream",
     "text": [
      "Zipped result as a list:\n",
      "('Chandler', 'Male', 35)\n",
      "('Monica', 'Female', 36)\n",
      "('Ross', 'Male', 38)\n",
      "('Rachel', 'Female', 34)\n"
     ]
    }
   ],
   "source": [
    "# Define lists for 'persons', 'genders', and a tuple for 'ages'\n",
    "persons = [\"Chandler\", \"Monica\", \"Ross\", \"Rachel\", \"Joey\", \"Phoebe\", \"Joanna\"]\n",
    "genders = [\"Male\", \"Female\", \"Male\", \"Female\", \"Male\", \"Female\", \"Female\"]\n",
    "ages = (35, 36, 38, 34)\n",
    " \n",
    "# Create a zipped object combining the 'persons' and 'genders' \n",
    "#lists along with the 'ages' tuple\n",
    "zipped_result = zip(persons, genders, ages)\n",
    " \n",
    "# Print the zipped object\n",
    "print(\"Zipped result as a list:\")\n",
    "for i in list(zipped_result):\n",
    "  print(i)"
   ]
  },
  {
   "cell_type": "code",
   "execution_count": 13,
   "metadata": {},
   "outputs": [
    {
     "name": "stdout",
     "output_type": "stream",
     "text": [
      "Player :  Sachin     Score : 100\n",
      "Player :  Sehwag     Score : 15\n",
      "Player :  Gambhir     Score : 17\n",
      "Player :  Dravid     Score : 28\n",
      "Player :  Raina     Score : 43\n"
     ]
    }
   ],
   "source": [
    "# Python code to demonstrate the application of\n",
    "# zip()\n",
    " \n",
    "# initializing list of players.\n",
    "players = [\"Sachin\", \"Sehwag\", \"Gambhir\", \"Dravid\", \"Raina\"]\n",
    " \n",
    "# initializing their scores\n",
    "scores = [100, 15, 17, 28, 43]\n",
    " \n",
    "# printing players and scores.\n",
    "for pl, sc in zip(players, scores):\n",
    "    print(\"Player :  %s     Score : %d\" % (pl, sc))"
   ]
  }
 ],
 "metadata": {
  "kernelspec": {
   "display_name": "Python 3",
   "language": "python",
   "name": "python3"
  },
  "language_info": {
   "codemirror_mode": {
    "name": "ipython",
    "version": 3
   },
   "file_extension": ".py",
   "mimetype": "text/x-python",
   "name": "python",
   "nbconvert_exporter": "python",
   "pygments_lexer": "ipython3",
   "version": "3.8.10"
  }
 },
 "nbformat": 4,
 "nbformat_minor": 2
}
