{
 "cells": [
  {
   "cell_type": "code",
   "execution_count": 1,
   "metadata": {},
   "outputs": [
    {
     "name": "stdout",
     "output_type": "stream",
     "text": [
      "Output: 432\n"
     ]
    }
   ],
   "source": [
    "A = 234\n",
    "opt = 0\n",
    "\n",
    "while A > 0:\n",
    "    digit = A % 10 \n",
    "    opt = opt * 10 + digit\n",
    "    A = A // 10\n",
    "\n",
    "print(\"Output:\", opt)\n"
   ]
  },
  {
   "cell_type": "code",
   "execution_count": 3,
   "metadata": {},
   "outputs": [
    {
     "name": "stdout",
     "output_type": "stream",
     "text": [
      "{'a': 11, 'b': 12, 'c': 13}\n"
     ]
    }
   ],
   "source": [
    "A = {'a': 10, 'b': 11, 'c': 12}\n",
    "opt = {}\n",
    "\n",
    "for i, j in A.items():\n",
    "    opt[i] = j + 1\n",
    "\n",
    "print(opt)\n"
   ]
  },
  {
   "cell_type": "code",
   "execution_count": 8,
   "metadata": {},
   "outputs": [
    {
     "name": "stdout",
     "output_type": "stream",
     "text": [
      "3\n",
      "3\n",
      "6\n",
      "6\n"
     ]
    }
   ],
   "source": [
    "A = [7,10,13,19,25]\n",
    "#opt = [3,3,6,6]\n",
    "\n",
    "for i in range(len(A)-1):\n",
    "    print(A[i+1]-A[i])"
   ]
  },
  {
   "cell_type": "code",
   "execution_count": 11,
   "metadata": {},
   "outputs": [
    {
     "name": "stdout",
     "output_type": "stream",
     "text": [
      "['a', 'b', 'c', 'd', 3, 5, 6, 7]\n"
     ]
    }
   ],
   "source": [
    "A = ['a', 'b', 'c', 'd']\n",
    "B = [7,5,6,3]\n",
    "\n",
    "#opt = [a,b,c,d,3,5,6,7]\n",
    "\n",
    "B = sorted(B)\n",
    "\n",
    "for i in B:\n",
    "    A.append(i)\n",
    "\n",
    "print(A)"
   ]
  },
  {
   "cell_type": "code",
   "execution_count": 17,
   "metadata": {},
   "outputs": [
    {
     "name": "stdout",
     "output_type": "stream",
     "text": [
      "['a', 3, 'b', 5, 'c', 6, 'd', 7]\n"
     ]
    }
   ],
   "source": [
    "A = ['a', 'b', 'c', 'd']\n",
    "B = [7,5,6,3]\n",
    "\n",
    "#opt = [a,3,b,5,c,6,d,7]\n",
    "\n",
    "B = sorted(B)\n",
    "\n",
    "opt = []\n",
    "\n",
    "for i in range(len(A)):\n",
    "    opt.append(A[i])\n",
    "    opt.append(B[i])\n",
    "\n",
    "print(opt)\n"
   ]
  },
  {
   "cell_type": "code",
   "execution_count": 18,
   "metadata": {},
   "outputs": [
    {
     "name": "stdout",
     "output_type": "stream",
     "text": [
      "[[9, 1], [2, 2], [7, 3], [3, 9]]\n"
     ]
    }
   ],
   "source": [
    "A = [[3,9],[2,2],[9,1],[7,3]]\n",
    "#opt = [[9,1],[2,2],[7,3],[3,9]]\n",
    "\n",
    "opt = sorted(A,key=lambda x:x[1], reverse = False)\n",
    "\n",
    "print(opt)\n"
   ]
  }
 ],
 "metadata": {
  "kernelspec": {
   "display_name": "Python 3",
   "language": "python",
   "name": "python3"
  },
  "language_info": {
   "codemirror_mode": {
    "name": "ipython",
    "version": 3
   },
   "file_extension": ".py",
   "mimetype": "text/x-python",
   "name": "python",
   "nbconvert_exporter": "python",
   "pygments_lexer": "ipython3",
   "version": "3.11.9"
  }
 },
 "nbformat": 4,
 "nbformat_minor": 2
}
