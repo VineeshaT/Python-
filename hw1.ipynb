{
 "cells": [
  {
   "cell_type": "code",
   "execution_count": 6,
   "metadata": {},
   "outputs": [
    {
     "name": "stdout",
     "output_type": "stream",
     "text": [
      "{'x': ['i', 'y', 'z']}\n"
     ]
    }
   ],
   "source": [
    "A = {'x': ['i','y','z']}\n",
    "#opt = { 'x': ['i','y','z'], i: ['i','y','z'], z:['i','y','z']}\n",
    "\n",
    "opt = {}\n",
    "\n",
    "for key, value in A.items():\n",
    "    opt[key] = value + [item for item in A.keys() if item != key]\n",
    "\n",
    "print(opt)"
   ]
  }
 ],
 "metadata": {
  "kernelspec": {
   "display_name": "Python 3",
   "language": "python",
   "name": "python3"
  },
  "language_info": {
   "codemirror_mode": {
    "name": "ipython",
    "version": 3
   },
   "file_extension": ".py",
   "mimetype": "text/x-python",
   "name": "python",
   "nbconvert_exporter": "python",
   "pygments_lexer": "ipython3",
   "version": "3.11.9"
  }
 },
 "nbformat": 4,
 "nbformat_minor": 2
}
