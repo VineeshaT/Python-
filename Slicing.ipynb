{
 "cells": [
  {
   "cell_type": "code",
   "execution_count": 6,
   "metadata": {},
   "outputs": [
    {
     "name": "stdout",
     "output_type": "stream",
     "text": [
      "A[1:] is excluding the first index value and prints remaining: [2, 3, 4, 5, 6, 7, 8, 9]\n",
      "A[:2] is including the first 2 index values and prints: [1, 2]\n",
      "A[:-2] is excluding the last 2 index values and prints remaining: [1, 2, 3, 4, 5, 6, 7]\n",
      "A[-2:] is including the last 2 index values and prints: [8, 9]\n",
      "A[2:-2] here 2: is excluding the first 2 index values and :-2 is excluding the last 2 index values: [3, 4, 5, 6, 7]\n",
      "A[-2:2] here -2: is including the last 2 index values and :2 is including the first 2 index values since there is no common values it prints nothing: []\n",
      "A[::2] is skipping 2 index values and prints the third value: [1, 3, 5, 7, 9]\n",
      "A[::3] is skipping 3 index values and prints the forth value: [1, 4, 7]\n"
     ]
    }
   ],
   "source": [
    "A = [1,2,3,4,5,6,7,8,9]\n",
    "\n",
    "\n",
    "print(f\"A[1:] is excluding the first index value and prints remaining: {A[1:]}\") #opt: [2,3,4,5,6,7,8,9]\n",
    "\n",
    "print(f\"A[:2] is including the first 2 index values and prints: {A[:2]}\") #opt: [1,2]\n",
    "\n",
    "print(f\"A[:-2] is excluding the last 2 index values and prints remaining: {A[:-2]}\") #opt: [1,2,3,4,5,6,7]\n",
    "\n",
    "print(f\"A[-2:] is including the last 2 index values and prints: {A[-2:]}\") #opt: [8,9]\n",
    "\n",
    "print(f\"A[2:-2] here 2: is excluding the first 2 index values and :-2 is excluding the last 2 index values: {A[2:-2]}\") #opt: [3,4,5,6,7]\n",
    "\n",
    "print(f\"A[-2:2] here -2: is including the last 2 index values and :2 is including the first 2 index values since there is no common values it prints nothing: {A[-2:2]}\") #opt: []\n",
    "\n",
    "print(f\"A[::2] is skipping 2 index values and prints the third value: {A[::2]}\") #opt: [3,6,9]\n",
    "\n",
    "print(f\"A[::3] is skipping 3 index values and prints the forth value: {A[::3]}\") #opt: [4,8]\n"
   ]
  }
 ],
 "metadata": {
  "kernelspec": {
   "display_name": "Python 3",
   "language": "python",
   "name": "python3"
  },
  "language_info": {
   "codemirror_mode": {
    "name": "ipython",
    "version": 3
   },
   "file_extension": ".py",
   "mimetype": "text/x-python",
   "name": "python",
   "nbconvert_exporter": "python",
   "pygments_lexer": "ipython3",
   "version": "3.8.10"
  }
 },
 "nbformat": 4,
 "nbformat_minor": 2
}
