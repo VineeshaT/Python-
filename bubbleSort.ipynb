{
 "cells": [
  {
   "cell_type": "code",
   "execution_count": 16,
   "metadata": {},
   "outputs": [
    {
     "name": "stdout",
     "output_type": "stream",
     "text": [
      "Before Sorting:\n",
      "8 2 7 9 5 1 \n",
      "After Sorting:\n",
      "1 2 5 7 8 9 "
     ]
    }
   ],
   "source": [
    "nums = [8,2,7,9,5,1]\n",
    "temp =0\n",
    "\n",
    "print(\"Before Sorting:\")\n",
    "for num in nums:\n",
    "    print(num, end=\" \")\n",
    "\n",
    "for i in range(len(nums)):\n",
    "    for j in range(len(nums)-1):\n",
    "        if nums[j] > nums[j+1]:\n",
    "            temp = nums[j]\n",
    "            nums[j] = nums[j+1]\n",
    "            nums[j+1] = temp\n",
    "\n",
    "print(\"\\nAfter Sorting:\")\n",
    "for num in nums:\n",
    "    print(num, end=\" \")"
   ]
  },
  {
   "cell_type": "code",
   "execution_count": 21,
   "metadata": {},
   "outputs": [
    {
     "name": "stdout",
     "output_type": "stream",
     "text": [
      "Before Sorting:\n",
      "2 0 2 1 1 0 \n",
      "Steps taken to complete the linear search: 1\n",
      "\n",
      "Steps taken to complete the linear search: 2\n",
      "\n",
      "Steps taken to complete the linear search: 3\n",
      "\n",
      "Steps taken to complete the linear search: 4\n",
      "\n",
      "Steps taken to complete the linear search: 5\n",
      "\n",
      "Steps taken to complete the linear search: 6\n",
      "\n",
      "After Sorting:\n",
      "0 0 1 1 2 2 "
     ]
    }
   ],
   "source": [
    "nums = [2,0,2,1,1,0]\n",
    "temp =0\n",
    "steps =0\n",
    "\n",
    "print(\"Before Sorting:\")\n",
    "for num in nums:\n",
    "    print(num, end=\" \")\n",
    "\n",
    "for i in range(len(nums)):\n",
    "    steps +=1\n",
    "    for j in range(len(nums)-1):\n",
    "        if nums[j] > nums[j+1]:\n",
    "            temp = nums[j]\n",
    "            nums[j] = nums[j+1]\n",
    "            nums[j+1] = temp\n",
    "    print(f\"\\nSteps taken to complete the linear search: {steps}\")\n",
    "\n",
    "print(\"\\nAfter Sorting:\")\n",
    "for num in nums:\n",
    "    print(num, end=\" \")"
   ]
  },
  {
   "cell_type": "code",
   "execution_count": 28,
   "metadata": {},
   "outputs": [
    {
     "name": "stdout",
     "output_type": "stream",
     "text": [
      "[0, 0, 1, 1, 2, 2]\n"
     ]
    }
   ],
   "source": [
    "from typing import List\n",
    "\n",
    "class Solution:\n",
    "    def sortColors(self, nums: List[int]) -> None:\n",
    "        nums = [2,0,2,1,1,0]\n",
    "        temp = 0\n",
    "        for i in range(len(nums)):\n",
    "            for j in range(len(nums)-1):\n",
    "                if nums[j]>nums[j+1]:\n",
    "                    temp = nums[j]\n",
    "                    nums[j] = nums[j+1]\n",
    "                    nums[j+1] = temp\n",
    "    print(nums)"
   ]
  }
 ],
 "metadata": {
  "kernelspec": {
   "display_name": "Python 3",
   "language": "python",
   "name": "python3"
  },
  "language_info": {
   "codemirror_mode": {
    "name": "ipython",
    "version": 3
   },
   "file_extension": ".py",
   "mimetype": "text/x-python",
   "name": "python",
   "nbconvert_exporter": "python",
   "pygments_lexer": "ipython3",
   "version": "3.8.10"
  }
 },
 "nbformat": 4,
 "nbformat_minor": 2
}
