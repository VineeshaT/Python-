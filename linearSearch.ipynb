{
 "cells": [
  {
   "cell_type": "code",
   "execution_count": 26,
   "metadata": {},
   "outputs": [
    {
     "name": "stdout",
     "output_type": "stream",
     "text": [
      "Target found at index 3: 9\n"
     ]
    }
   ],
   "source": [
    "#Finding the index of the element in Linear Search\n",
    "nums = [3, 5, 6, 9, 10, 11]\n",
    "target = 9\n",
    "\n",
    "def linearSearch(nums: list, target: int) -> int:\n",
    "    for i in range(len(nums)):\n",
    "        if nums[i] == target:\n",
    "            return i\n",
    "    return -1  # Return -1 if target is not found\n",
    "\n",
    "result = linearSearch(nums, target)\n",
    "\n",
    "if result == -1:\n",
    "    print(f\"Target not found: {target}\")\n",
    "else:\n",
    "    print(f\"Target found at index {result}: {target}\")\n"
   ]
  },
  {
   "cell_type": "code",
   "execution_count": 24,
   "metadata": {},
   "outputs": [
    {
     "name": "stdout",
     "output_type": "stream",
     "text": [
      "Steps taken to complete the linear search: 6\n",
      "Target not found: 19\n"
     ]
    }
   ],
   "source": [
    "#Finding the index of the element & no of steps taken to complete Linear Search\n",
    "nums = [3, 5, 6, 9, 10, 11]\n",
    "target = 19\n",
    "\n",
    "def linearSearch(nums: list, target: int) -> int:\n",
    "    steps = 0\n",
    "    for i in range(len(nums)):\n",
    "        steps +=1\n",
    "        if nums[i] == target:\n",
    "            print(f\"Steps taken to complete the linear search: {steps}\")\n",
    "            return i\n",
    "    print(f\"Steps taken to complete the linear search: {steps}\")\n",
    "    return -1  # Return -1 if target is not found\n",
    "\n",
    "result = linearSearch(nums, target)\n",
    "\n",
    "if result == -1:\n",
    "    print(f\"Target not found: {target}\")\n",
    "else:\n",
    "    print(f\"Target found at index {result}: {target}\")\n"
   ]
  }
 ],
 "metadata": {
  "kernelspec": {
   "display_name": "Python 3",
   "language": "python",
   "name": "python3"
  },
  "language_info": {
   "codemirror_mode": {
    "name": "ipython",
    "version": 3
   },
   "file_extension": ".py",
   "mimetype": "text/x-python",
   "name": "python",
   "nbconvert_exporter": "python",
   "pygments_lexer": "ipython3",
   "version": "3.8.10"
  }
 },
 "nbformat": 4,
 "nbformat_minor": 2
}
