{
 "cells": [
  {
   "cell_type": "code",
   "execution_count": 72,
   "metadata": {},
   "outputs": [
    {
     "name": "stdout",
     "output_type": "stream",
     "text": [
      "[['x', 4], ['y', 2], ['z', 2]]\n"
     ]
    }
   ],
   "source": [
    "A = { 'x' : ['y','z'], 'y' : ['x','z'], 'z' : ['y','x'], 'x' : ['x']   }\n",
    "#opt = [ [x,5], [y,3], [z,3]  ]\n",
    "\n",
    "opt = {}\n",
    "\n",
    "for i, j in A.items():\n",
    "    opt[i] = opt.get(i, 0) + 1\n",
    "    for k in j:\n",
    "        opt[k] = opt.get(k, 0) + 1\n",
    "\n",
    "opt = [[k, count] for k, count in opt.items()]\n",
    "\n",
    "print(opt)"
   ]
  },
  {
   "cell_type": "code",
   "execution_count": 70,
   "metadata": {},
   "outputs": [
    {
     "name": "stdout",
     "output_type": "stream",
     "text": [
      "[['x', 4], ['y', 2], ['z', 2]]\n"
     ]
    }
   ],
   "source": [
    "A = {'x': ['y', 'z'], 'y': ['x', 'z'], 'z': ['y', 'x'], 'x': ['x']}\n",
    "\n",
    "opt = {}\n",
    "\n",
    "for key in A.keys():\n",
    "    opt[key] = opt.get(key, 0) + 1\n",
    "\n",
    "for values in A.values():\n",
    "    for char in values:\n",
    "        opt[char] = opt.get(char, 0) + 1\n",
    "\n",
    "opt1 = [[char, count] for char, count in opt.items()]\n",
    "\n",
    "print(opt1)\n"
   ]
  },
  {
   "cell_type": "code",
   "execution_count": 68,
   "metadata": {},
   "outputs": [
    {
     "name": "stdout",
     "output_type": "stream",
     "text": [
      "[['x', 5], ['y', 3], ['z', 3]]\n"
     ]
    }
   ],
   "source": [
    "A = {'x': ['y', 'z'], 'y': ['x', 'z'], 'z': ['y', 'x'], 'x': ['x']}\n",
    "\n",
    "combined_list = [key for key, _ in A.items()] + [value for values in A.values() for value in values] + list(A.keys())\n",
    "\n",
    "opt_dict = {}\n",
    "for char in combined_list:\n",
    "    opt_dict[char] = opt_dict.get(char, 0) + 1\n",
    "\n",
    "opt = [[char, count] for char, count in opt_dict.items()]\n",
    "\n",
    "print(opt)\n"
   ]
  },
  {
   "cell_type": "code",
   "execution_count": 73,
   "metadata": {},
   "outputs": [
    {
     "ename": "SyntaxError",
     "evalue": "invalid syntax (820760100.py, line 7)",
     "output_type": "error",
     "traceback": [
      "\u001b[1;36m  Cell \u001b[1;32mIn[73], line 7\u001b[1;36m\u001b[0m\n\u001b[1;33m    print(opt1)\u001b[0m\n\u001b[1;37m    ^\u001b[0m\n\u001b[1;31mSyntaxError\u001b[0m\u001b[1;31m:\u001b[0m invalid syntax\n"
     ]
    }
   ],
   "source": [
    "data = { 'x': ['y', 'z', 'p'], 'y' : ['x', 'z'], 'z' : ['y', 'x'] }\n",
    "\n",
    "ft = [ [i,k] for i,j in data.items() for k in j ]\n",
    "opt = sum(ft, [])\n",
    "\n",
    "opt1 = { i:opt.count(i) for i in optprint(opt1)\n",
    "\n",
    "x=[]\n",
    "for i,j in opt1.items():\n",
    "    x.append([i,j])\n",
    "\n",
    "print(x)"
   ]
  }
 ],
 "metadata": {
  "kernelspec": {
   "display_name": "Python 3",
   "language": "python",
   "name": "python3"
  },
  "language_info": {
   "codemirror_mode": {
    "name": "ipython",
    "version": 3
   },
   "file_extension": ".py",
   "mimetype": "text/x-python",
   "name": "python",
   "nbconvert_exporter": "python",
   "pygments_lexer": "ipython3",
   "version": "3.8.10"
  }
 },
 "nbformat": 4,
 "nbformat_minor": 2
}
