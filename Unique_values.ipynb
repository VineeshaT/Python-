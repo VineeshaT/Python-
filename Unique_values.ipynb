{
 "cells": [
  {
   "cell_type": "code",
   "execution_count": 1,
   "metadata": {},
   "outputs": [
    {
     "name": "stdout",
     "output_type": "stream",
     "text": [
      "[3, 4, 2, 6, 7, 5]\n"
     ]
    }
   ],
   "source": [
    "A = [3,4,2,3,6,7,7,7,7,5]\n",
    "B = []\n",
    "\n",
    "for i in A:\n",
    "    if i not in B:\n",
    "        B.append(i)\n",
    "\n",
    "print(B)"
   ]
  },
  {
   "cell_type": "code",
   "execution_count": 3,
   "metadata": {},
   "outputs": [
    {
     "name": "stdout",
     "output_type": "stream",
     "text": [
      "[3, 4, 2, 6, 7, 5]\n"
     ]
    }
   ],
   "source": [
    "#To Find the Duplicate values\n",
    "A = [3,4,2,3,6,7,7,7,7,5]\n",
    "B = []\n",
    "\n",
    "for i in A:\n",
    "    if i not in B:\n",
    "       \n",
    "        B.append(i)\n",
    "        B.count(i)\n",
    "\n",
    "print(B)"
   ]
  },
  {
   "cell_type": "code",
   "execution_count": 5,
   "metadata": {},
   "outputs": [
    {
     "name": "stdout",
     "output_type": "stream",
     "text": [
      "[3, 4, 2, 6, 7, 5]\n"
     ]
    }
   ],
   "source": [
    "A = [3,4,2,3,6,7,7,7,7,5]\n",
    "x = list(dict.fromkeys(A))\n",
    "\n",
    "\n",
    "print(x)"
   ]
  },
  {
   "cell_type": "code",
   "execution_count": 8,
   "metadata": {},
   "outputs": [
    {
     "name": "stdout",
     "output_type": "stream",
     "text": [
      "[2, 3, 4, 5, 6, 7]\n"
     ]
    }
   ],
   "source": [
    "A = [3,4,2,3,6,7,7,7,7,5]\n",
    "\n",
    "unique_values = list(set(A))\n",
    "print(unique_values)\n"
   ]
  },
  {
   "cell_type": "code",
   "execution_count": null,
   "metadata": {},
   "outputs": [],
   "source": [
    "A = [ 3,4,5,3,4,5,6,7]\n",
    "B"
   ]
  }
 ],
 "metadata": {
  "kernelspec": {
   "display_name": "Python 3",
   "language": "python",
   "name": "python3"
  },
  "language_info": {
   "codemirror_mode": {
    "name": "ipython",
    "version": 3
   },
   "file_extension": ".py",
   "mimetype": "text/x-python",
   "name": "python",
   "nbconvert_exporter": "python",
   "pygments_lexer": "ipython3",
   "version": "3.8.10"
  }
 },
 "nbformat": 4,
 "nbformat_minor": 2
}
