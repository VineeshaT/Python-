{
 "cells": [
  {
   "cell_type": "code",
   "execution_count": 1,
   "metadata": {},
   "outputs": [
    {
     "name": "stdout",
     "output_type": "stream",
     "text": [
      "[2, 3, 4, 5, 6, 7]\n"
     ]
    }
   ],
   "source": [
    "A = [3,4,2,3,6,7,7,7,7,5]\n",
    "\n",
    "#Not Preferable.\n",
    "#Prints Unique Values but sorts the order\n",
    "print(list(set(A)))\n",
    "#we shouldn’t use more often bcz \"set\" randomizes the values in the list, basically it sorts the values.\n"
   ]
  },
  {
   "cell_type": "code",
   "execution_count": 3,
   "metadata": {},
   "outputs": [
    {
     "name": "stdout",
     "output_type": "stream",
     "text": [
      "[3, 4, 2, 6, 7, 5]\n"
     ]
    }
   ],
   "source": [
    "A = [3,4,2,3,6,7,7,7,7,5]\n",
    "\n",
    "#This is Preferable.\n",
    "#Prints Unique Values without sorting the order\n",
    "print(list(dict.fromkeys(A)))\n",
    "\n"
   ]
  },
  {
   "cell_type": "code",
   "execution_count": 10,
   "metadata": {},
   "outputs": [
    {
     "name": "stdout",
     "output_type": "stream",
     "text": [
      "{3: 2, 4: 1, 2: 1, 6: 1, 7: 4, 5: 1}\n"
     ]
    }
   ],
   "source": [
    "A = [3,4,2,3,6,7,7,7,7,5]\n",
    "\n",
    "#Prints the Unique values and those count value\n",
    "opt = { i : A.count(i) for i in A }\n",
    "\n",
    "print(opt)"
   ]
  },
  {
   "cell_type": "code",
   "execution_count": 14,
   "metadata": {},
   "outputs": [
    {
     "name": "stdout",
     "output_type": "stream",
     "text": [
      "{3: 2, 4: 1, 2: 1, 6: 1, 7: 4, 5: 1}\n",
      "Print the values that are not duplicate/Unique Values: 4\n",
      "Print the values that are not duplicate/Unique Values: 2\n",
      "Print the values that are not duplicate/Unique Values: 6\n",
      "Print the values that are not duplicate/Unique Values: 5\n"
     ]
    }
   ],
   "source": [
    "A = [3,4,2,3,6,7,7,7,7,5]\n",
    "\n",
    "#Prints the Unique values and those count value\n",
    "opt = { i : A.count(i) for i in A }\n",
    "\n",
    "print(opt)\n",
    "\n",
    "#Print the values that are not duplicate\n",
    "for i,j in opt.items():\n",
    "    if j == 1: #If we keep value i.e j==1 then it prints non duplicates.\n",
    "        print(f\"Print the values that are not duplicate/Unique Values: {i}\")"
   ]
  },
  {
   "cell_type": "code",
   "execution_count": 15,
   "metadata": {},
   "outputs": [
    {
     "name": "stdout",
     "output_type": "stream",
     "text": [
      "{3: 2, 4: 1, 2: 1, 6: 1, 7: 4, 5: 1}\n",
      "Print the values that are duplicate/Non Unique Values: 3\n",
      "Print the values that are duplicate/Non Unique Values: 7\n"
     ]
    }
   ],
   "source": [
    "A = [3,4,2,3,6,7,7,7,7,5]\n",
    "\n",
    "#Prints the Unique values and those count value\n",
    "opt = { i : A.count(i) for i in A }\n",
    "\n",
    "print(opt)\n",
    "\n",
    "#Print the values that are  duplicate\n",
    "for i,j in opt.items():\n",
    "    if j != 1: #If we keep value i.e j!=1 then it prints duplicates.\n",
    "        print(f\"Print the values that are duplicate/Non Unique Values: {i}\")"
   ]
  },
  {
   "cell_type": "code",
   "execution_count": 16,
   "metadata": {},
   "outputs": [
    {
     "name": "stdout",
     "output_type": "stream",
     "text": [
      "{3: 2, 4: 1, 2: 1, 6: 1, 7: 4, 5: 1}\n",
      "Print the values that are duplicate/Non Unique Values: 3\n",
      "Print the values that are duplicate/Non Unique Values: 7\n"
     ]
    }
   ],
   "source": [
    "A = [3,4,2,3,6,7,7,7,7,5]\n",
    "\n",
    "#Prints the Unique values and those count value\n",
    "opt = { i : A.count(i) for i in A }\n",
    "\n",
    "print(opt)\n",
    "\n",
    "#Print the values that are duplicate\n",
    "for i,j in opt.items():\n",
    "    if j > 1: #If we keep value i.e j>1 then it prints duplicates.\n",
    "        print(f\"Print the values that are duplicate/Non Unique Values: {i}\")"
   ]
  },
  {
   "cell_type": "code",
   "execution_count": 3,
   "metadata": {},
   "outputs": [
    {
     "name": "stdout",
     "output_type": "stream",
     "text": [
      "[3, 4, 2, 6, 7, 5]\n",
      "Print the Unique values of A: [3, 4, 2, 6, 7, 5]\n"
     ]
    }
   ],
   "source": [
    "A = [3,4,2,3,6,7,7,7,7,5]\n",
    "B = []\n",
    "\n",
    "#Print the values that are Unique\n",
    "for i in A:\n",
    "    if i not in B:\n",
    "        B.append(i)\n",
    "\n",
    "print(B)\n",
    "print(f\"Print the Unique values of A: {B}\")\n"
   ]
  },
  {
   "cell_type": "code",
   "execution_count": 7,
   "metadata": {},
   "outputs": [
    {
     "name": "stdout",
     "output_type": "stream",
     "text": [
      "[]\n",
      "Print the B values which is null: []\n"
     ]
    }
   ],
   "source": [
    "A = [3,4,2,3,6,7,7,7,7,5]\n",
    "\n",
    "B = []\n",
    "\n",
    "#Print the values that are Unique\n",
    "for i in A:\n",
    "    if i in B:\n",
    "        B.append(i)\n",
    "\n",
    "print(B)\n",
    "print(f\"Print the B values which is null: {B}\")\n"
   ]
  },
  {
   "cell_type": "code",
   "execution_count": 11,
   "metadata": {},
   "outputs": [
    {
     "name": "stdout",
     "output_type": "stream",
     "text": [
      "{3: 2, 4: 1, 2: 1, 6: 1, 7: 4, 5: 1}\n",
      "Duplicate\n"
     ]
    }
   ],
   "source": [
    "A = [3,4,2,3,6,7,7,7,7,5]\n",
    "\n",
    "opt = { i : A.count(i) for i in A }\n",
    "\n",
    "print(opt)\n",
    "\n",
    "for i,j in opt.items():\n",
    "    if j > 1:\n",
    "        print(\"Duplicate\")\n",
    "        break\n",
    "    else:\n",
    "        print(\"Unique\")\n",
    "        break"
   ]
  },
  {
   "cell_type": "code",
   "execution_count": 12,
   "metadata": {},
   "outputs": [
    {
     "name": "stdout",
     "output_type": "stream",
     "text": [
      "[3, 4, 5, 3, 4, 5, 6, 7, 4, 4, 4, 5, 6, 9, 9, 9]\n"
     ]
    }
   ],
   "source": [
    "A = [3,4,5,3,4,5,6,7]\n",
    "B = [4,4,4,5,6,9,9,9]\n",
    "\n",
    "#opt = [3,4,5,6,7,9]\n",
    "#Prints All the Values of A & B in a list\n",
    "print(A+B)"
   ]
  },
  {
   "cell_type": "code",
   "execution_count": 15,
   "metadata": {},
   "outputs": [
    {
     "name": "stdout",
     "output_type": "stream",
     "text": [
      "[3, 4, 2, 6, 7, 5]\n",
      "Duplicate\n"
     ]
    }
   ],
   "source": [
    "A = [3,4,2,3,6,7,7,7,7,5]\n",
    "\n",
    "x = list(dict.fromkeys(A))\n",
    "# Prints the Unique Values\n",
    "print(x)\n",
    "\n",
    "# To check whether it is duplicate or not\n",
    "if len(A) == len(x):\n",
    "    print(\"Unique\")\n",
    "else:\n",
    "    print(\"Duplicate\")"
   ]
  },
  {
   "cell_type": "code",
   "execution_count": 16,
   "metadata": {},
   "outputs": [
    {
     "name": "stdout",
     "output_type": "stream",
     "text": [
      "[3, 4, 4, 4, 4, 5, 5, 6, 6, 7, 9, 9, 9]\n"
     ]
    }
   ],
   "source": [
    "A = [3,4,5,3,4,5,6,7]\n",
    "B = [4,4,4,5,6,9,9,9]\n",
    "\n",
    "#opt = [3,4,4,4,4,5,6,7,9,9,9]\n",
    "\n",
    "print(sorted(list(dict.fromkeys(A)) + B ))"
   ]
  },
  {
   "cell_type": "code",
   "execution_count": 5,
   "metadata": {},
   "outputs": [
    {
     "name": "stdout",
     "output_type": "stream",
     "text": [
      "Duplicate Values: [1, 2, 5]\n"
     ]
    }
   ],
   "source": [
    "A = [3,2,1,4,5,1,2,5]\n",
    "duplicates = [] #duplicates\n",
    "seen = set() #unique\n",
    "\n",
    "for item in A:\n",
    "    if item in seen:\n",
    "        duplicates.append(item)\n",
    "    else:\n",
    "        seen.add(item)\n",
    "\n",
    "print(\"Duplicate Values:\", duplicates)"
   ]
  },
  {
   "cell_type": "code",
   "execution_count": 7,
   "metadata": {},
   "outputs": [
    {
     "name": "stdout",
     "output_type": "stream",
     "text": [
      "Unique Values: 3\n",
      "Unique Values: 2\n",
      "Unique Values: 1\n",
      "Unique Values: 4\n",
      "Unique Values: 5\n",
      "Duplicate Values: 1\n",
      "Duplicate Values: 2\n",
      "Duplicate Values: 5\n"
     ]
    }
   ],
   "source": [
    "A = [3,2,1,4,5,1,2,5]\n",
    "duplicates = [] #duplicates\n",
    "seen = set() #unique\n",
    "\n",
    "for item in A:\n",
    "    if item in seen:\n",
    "        duplicates.append(item)\n",
    "        print(\"Duplicate Values:\", item)\n",
    "    else:\n",
    "        seen.add(item)\n",
    "        print(\"Unique Values:\", item)\n",
    "\n"
   ]
  }
 ],
 "metadata": {
  "kernelspec": {
   "display_name": "Python 3",
   "language": "python",
   "name": "python3"
  },
  "language_info": {
   "codemirror_mode": {
    "name": "ipython",
    "version": 3
   },
   "file_extension": ".py",
   "mimetype": "text/x-python",
   "name": "python",
   "nbconvert_exporter": "python",
   "pygments_lexer": "ipython3",
   "version": "3.11.9"
  }
 },
 "nbformat": 4,
 "nbformat_minor": 2
}
