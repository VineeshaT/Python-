{
 "cells": [
  {
   "cell_type": "code",
   "execution_count": 11,
   "metadata": {},
   "outputs": [
    {
     "name": "stdout",
     "output_type": "stream",
     "text": [
      "AAAAAAABBBBCC\n"
     ]
    }
   ],
   "source": [
    "#classwork\n",
    "x = \"AAAABBCCAABBA\"\n",
    "#opt = \"AAAAAAABBBBCC\"\n",
    "\n",
    "opt = {i:x.count(i) for i in x}\n",
    "\n",
    "s = \"\"\n",
    "\n",
    "for i,j in opt.items():\n",
    "    s = s+i*j\n",
    "\n",
    "print(s)"
   ]
  },
  {
   "cell_type": "code",
   "execution_count": 27,
   "metadata": {},
   "outputs": [
    {
     "name": "stdout",
     "output_type": "stream",
     "text": [
      "{'A': 7, 'B': 4, 'C': 2}\n",
      "{'A': 7, 'B': 4, 'C': 2}\n",
      "['A', 'B', 'C']\n",
      "AAAAAAABBBBCC\n"
     ]
    }
   ],
   "source": [
    "#Homework\n",
    "x = \"AAAABBCCAABBA\"\n",
    "#opt = \"AAAAAAABBBBCC\"\n",
    "\n",
    "opt = { x[i]:x.count(x[i]) for i in range(len(x)) }\n",
    "print(opt)\n",
    "\n",
    "opt1 = dict(sorted(opt.items(), key = lambda x : x[1], reverse = True))\n",
    "print(opt1)\n",
    "\n",
    "opt2 = list(opt1.keys())\n",
    "print(opt2)\n",
    "\n",
    "s = \"\"\n",
    "for i, count in opt1.items():\n",
    "    s = s+i*count\n",
    "\n",
    "print(s)"
   ]
  },
  {
   "cell_type": "code",
   "execution_count": 31,
   "metadata": {},
   "outputs": [
    {
     "name": "stdout",
     "output_type": "stream",
     "text": [
      "AAAAAAABBBBCC\n"
     ]
    }
   ],
   "source": [
    "x = \"AAAABBCCAABBA\"\n",
    "\n",
    "# opt = {x[i]: x.count(x[i]) for i in range(len(x))}\n",
    "opt = { i:x.count(i) for i in x}\n",
    "\n",
    "# Construct the new string by repeating each character according to its count\n",
    "result = \"\"\n",
    "for i, count in opt.items():\n",
    "    result += i * count\n",
    "\n",
    "print(result)"
   ]
  }
 ],
 "metadata": {
  "kernelspec": {
   "display_name": "Python 3",
   "language": "python",
   "name": "python3"
  },
  "language_info": {
   "codemirror_mode": {
    "name": "ipython",
    "version": 3
   },
   "file_extension": ".py",
   "mimetype": "text/x-python",
   "name": "python",
   "nbconvert_exporter": "python",
   "pygments_lexer": "ipython3",
   "version": "3.8.10"
  }
 },
 "nbformat": 4,
 "nbformat_minor": 2
}
