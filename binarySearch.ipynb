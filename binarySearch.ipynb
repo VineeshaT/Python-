{
 "cells": [
  {
   "cell_type": "code",
   "execution_count": 5,
   "metadata": {},
   "outputs": [
    {
     "name": "stdout",
     "output_type": "stream",
     "text": [
      "Target found at index 4: 42\n"
     ]
    }
   ],
   "source": [
    "#Finding the index of the element in Binary Search\n",
    "nums = [5,6,9,12,42,77]\n",
    "target = 42\n",
    "\n",
    "def binarySearch(nums: list, target: int) -> int:\n",
    "    left = 0\n",
    "    right = len(nums)-1\n",
    "    while left <= right:\n",
    "        mid = (left+right)//2  # Use integer division\n",
    "        if nums[mid]== target:\n",
    "            return mid\n",
    "        elif nums[mid] <target:\n",
    "            left = mid+1\n",
    "        elif nums[mid] > target:\n",
    "            right = mid-1\n",
    "    return -1\n",
    "        \n",
    "result = binarySearch(nums, target)\n",
    "\n",
    "if result == -1:\n",
    "    print(f\"Target not found: {target}\")\n",
    "else:\n",
    "    print(f\"Target found at index {result}: {target}\")"
   ]
  },
  {
   "cell_type": "code",
   "execution_count": 7,
   "metadata": {},
   "outputs": [
    {
     "name": "stdout",
     "output_type": "stream",
     "text": [
      "Steps taken to complete the Binary search: 2\n",
      "Target found at index 4: 42\n"
     ]
    }
   ],
   "source": [
    "#Finding the index of the element & no of steps taken to complete Binary Search\n",
    "#Finding the index of the element in Binary Search\n",
    "nums = [5,6,9,12,42,77]\n",
    "target = 42\n",
    "\n",
    "def binarySearch(nums: list, target: int) -> int:\n",
    "    left = 0\n",
    "    right = len(nums)-1\n",
    "    steps = 0\n",
    "    while left <= right:\n",
    "        mid = (left+right)//2  # Use integer division\n",
    "        steps +=1\n",
    "        if nums[mid]== target:\n",
    "            print(f\"Steps taken to complete the Binary search: {steps}\")\n",
    "            return mid\n",
    "        elif nums[mid] <target:\n",
    "            left = mid+1\n",
    "        elif nums[mid] > target:\n",
    "            right = mid-1\n",
    "    print(f\"Steps taken to complete the Binary search: {steps}\")\n",
    "    return -1\n",
    "        \n",
    "result = binarySearch(nums, target)\n",
    "\n",
    "if result == -1:\n",
    "    print(f\"Target not found: {target}\")\n",
    "else:\n",
    "    print(f\"Target found at index {result}: {target}\")"
   ]
  },
  {
   "cell_type": "code",
   "execution_count": 8,
   "metadata": {},
   "outputs": [
    {
     "name": "stdout",
     "output_type": "stream",
     "text": [
      "42 exists in nums and its index is 4\n"
     ]
    }
   ],
   "source": [
    "#Leet code\n",
    "from typing import List\n",
    "\n",
    "class Solution:\n",
    "    def search(self, nums: List[int], target: int) -> int:\n",
    "        left = 0\n",
    "        right = len(nums) - 1\n",
    "        while left <= right:\n",
    "            mid = (left + right) // 2  # Use integer division\n",
    "            if nums[mid] == target:\n",
    "                return mid\n",
    "            elif nums[mid] < target:\n",
    "                left = mid + 1\n",
    "            else:\n",
    "                right = mid - 1\n",
    "        return -1\n",
    "\n",
    "nums = [5, 6, 9, 12, 42, 77]\n",
    "target = 42\n",
    "result = Solution().search(nums, target)\n",
    "\n",
    "if result == -1:\n",
    "    print(f\"{target} does not exist in nums, so return -1\")\n",
    "else:\n",
    "    print(f\"{target} exists in nums and its index is {result}\")"
   ]
  }
 ],
 "metadata": {
  "kernelspec": {
   "display_name": "Python 3",
   "language": "python",
   "name": "python3"
  },
  "language_info": {
   "codemirror_mode": {
    "name": "ipython",
    "version": 3
   },
   "file_extension": ".py",
   "mimetype": "text/x-python",
   "name": "python",
   "nbconvert_exporter": "python",
   "pygments_lexer": "ipython3",
   "version": "3.8.10"
  }
 },
 "nbformat": 4,
 "nbformat_minor": 2
}
