{
 "cells": [
  {
   "cell_type": "code",
   "execution_count": 4,
   "metadata": {},
   "outputs": [
    {
     "name": "stdout",
     "output_type": "stream",
     "text": [
      "Before Sorting:\n",
      "8 2 7 9 5 1 \n",
      "After Sorting:\n",
      "1 2 5 7 8 9 "
     ]
    }
   ],
   "source": [
    "nums = [8, 2, 7, 9, 5, 1]\n",
    "minIndex = -1\n",
    "\n",
    "# Before sorting\n",
    "print(\"Before Sorting:\")\n",
    "for num in nums:\n",
    "    print(num, end=\" \")\n",
    "\n",
    "# Selection Sort\n",
    "for i in range(len(nums)):\n",
    "    minIndex = i  # Assume the current element is the minimum\n",
    "    for j in range(i + 1, len(nums)):  # Find the actual minimum element in the unsorted part\n",
    "        if nums[minIndex] > nums[j]:\n",
    "            minIndex = j\n",
    "    # Swap the found minimum element with the element at index i\n",
    "    nums[i], nums[minIndex] = nums[minIndex], nums[i]\n",
    "\n",
    "# After sorting\n",
    "print(\"\\nAfter Sorting:\")\n",
    "for num in nums:\n",
    "    print(num, end=\" \")\n"
   ]
  }
 ],
 "metadata": {
  "kernelspec": {
   "display_name": "Python 3",
   "language": "python",
   "name": "python3"
  },
  "language_info": {
   "codemirror_mode": {
    "name": "ipython",
    "version": 3
   },
   "file_extension": ".py",
   "mimetype": "text/x-python",
   "name": "python",
   "nbconvert_exporter": "python",
   "pygments_lexer": "ipython3",
   "version": "3.8.10"
  }
 },
 "nbformat": 4,
 "nbformat_minor": 2
}
