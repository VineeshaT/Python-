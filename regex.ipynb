{
 "cells": [
  {
   "cell_type": "code",
   "execution_count": 28,
   "metadata": {},
   "outputs": [
    {
     "name": "stdout",
     "output_type": "stream",
     "text": [
      "Prints the lowercase Letters [a-z] as a list: ['e', 'l', 'l', 'o', 'i', 'a', 'm', 'i', 'n', 'e', 'e', 's', 'h', 'a', 'y']\n",
      "Prints the Uppercase Letters in concat [a-z]+: ['elloiam', 'ineesha', 'y']\n",
      "Prints the Uppercase Letters[A-Z]\\w: ['H', 'V', 'M']\n",
      "Prints the spaces \\s: [' ']\n",
      "Prints the digit characte \\d: ['2', '6', '0', '3', '1', '9', '9', '4']\n",
      "Prints the non-Digits \\D: ['H', 'e', 'l', 'l', 'o', 'i', 'a', 'm', ' ', 'V', 'i', 'n', 'e', 'e', 's', 'h', 'a', 'M', 'y', 'D', '-', 'O', '-', 'B', '(', '#', '@', '*', '$', ')']\n",
      "Occurrences of '$' in the string ['']\n"
     ]
    }
   ],
   "source": [
    "import re\n",
    "\n",
    "A = \"Helloiam VineeshaMyD-O-B(#26@03*1994$)\"\n",
    "\n",
    "opt = re.findall(r'[a-z]',A)\n",
    "print(\"Prints the lowercase Letters [a-z] as a list:\",opt)\n",
    "\n",
    "opt = re.findall(r'[a-z]+',A)\n",
    "print(\"Prints the Uppercase Letters in concat [a-z]+:\",opt)\n",
    "\n",
    "opt = re.findall(r'([A-Z])\\w',A)\n",
    "print(\"Prints the Uppercase Letters[A-Z]\\w:\",opt)\n",
    "\n",
    "opt = re.findall(r'\\s',A)\n",
    "print(\"Prints the spaces \\s:\",opt)\n",
    "\n",
    "opt = re.findall(r'\\d',A)\n",
    "print(\"Prints the digit characte \\d:\",opt)\n",
    "\n",
    "opt = re.findall(r'\\D',A)\n",
    "print(\"Prints the non-Digits \\D:\",opt)\n",
    "\n",
    "opt = re.findall(r'$',A)\n",
    "print(\"Occurrences of '$' in the string\",opt)\n"
   ]
  },
  {
   "cell_type": "code",
   "execution_count": 2,
   "metadata": {},
   "outputs": [
    {
     "name": "stdout",
     "output_type": "stream",
     "text": [
      "['msd & 07', 'csk', 'captain & wk']\n"
     ]
    }
   ],
   "source": [
    "A = \"msd-07, csk, captain-wk\"\n",
    "# opt = ['msd', 7, 'csk\"', 'captian & wk']\n"
   ]
  },
  {
   "cell_type": "code",
   "execution_count": 6,
   "metadata": {},
   "outputs": [
    {
     "name": "stdout",
     "output_type": "stream",
     "text": [
      "Output opt: ['msd', 7, 'csk', 'captian', 'wk']\n"
     ]
    }
   ],
   "source": [
    "A = \"msd-07, csk, captian-wk\"\n",
    "\n",
    "# Split the input string by commas\n",
    "parts = A.split(',')\n",
    "\n",
    "# Process each part\n",
    "opt = []\n",
    "for part in parts:\n",
    "    # Split each part by hyphen\n",
    "    sub_parts = part.strip().split('-')\n",
    "    \n",
    "    # Check if there are two sub-parts\n",
    "    if len(sub_parts) == 2:\n",
    "        first_part = sub_parts[0].strip()\n",
    "        second_part = sub_parts[1].strip()\n",
    "        \n",
    "        if second_part.isdigit():  # Check if the second part is a digit\n",
    "            opt.append(first_part)  # Add the first sub-part\n",
    "            opt.append(int(second_part))  # Convert the second sub-part to integer and add\n",
    "        else:\n",
    "            opt.append(first_part)  # Add the first sub-part\n",
    "            opt.append(second_part)  # Add the second sub-part as it is\n",
    "    else:\n",
    "        opt.append(' & '.join(sub_parts))  # If only one sub-part, join with ' & ' and add\n",
    "\n",
    "print(\"Output opt:\", opt)\n"
   ]
  }
 ],
 "metadata": {
  "kernelspec": {
   "display_name": "Python 3",
   "language": "python",
   "name": "python3"
  },
  "language_info": {
   "codemirror_mode": {
    "name": "ipython",
    "version": 3
   },
   "file_extension": ".py",
   "mimetype": "text/x-python",
   "name": "python",
   "nbconvert_exporter": "python",
   "pygments_lexer": "ipython3",
   "version": "3.11.9"
  }
 },
 "nbformat": 4,
 "nbformat_minor": 2
}
