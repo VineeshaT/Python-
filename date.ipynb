{
 "cells": [
  {
   "cell_type": "code",
   "execution_count": 3,
   "metadata": {},
   "outputs": [
    {
     "name": "stdout",
     "output_type": "stream",
     "text": [
      "Days & Time Difference: 130 days, 1:36:57\n",
      "Number of days between the two logins: 130\n"
     ]
    }
   ],
   "source": [
    "from datetime import datetime\n",
    "\n",
    "login1 = \"12-2023-09 20:18:23\"\n",
    "login2 = \"2024-04-17 21:55:20\"\n",
    "\n",
    "login1_datetime = datetime.strptime(login1, \"%m-%Y-%d %H:%M:%S\")\n",
    "login2_datetime = datetime.strptime(login2, \"%Y-%m-%d %H:%M:%S\")\n",
    "\n",
    "time_difference = login2_datetime - login1_datetime\n",
    "days_difference = time_difference.days\n",
    "\n",
    "print(\"Days & Time Difference between 2 logins:\", time_difference)\n",
    "print(\"Number of days between the two logins:\", days_difference)\n"
   ]
  },
  {
   "cell_type": "code",
   "execution_count": null,
   "metadata": {},
   "outputs": [],
   "source": []
  }
 ],
 "metadata": {
  "kernelspec": {
   "display_name": "Python 3",
   "language": "python",
   "name": "python3"
  },
  "language_info": {
   "codemirror_mode": {
    "name": "ipython",
    "version": 3
   },
   "file_extension": ".py",
   "mimetype": "text/x-python",
   "name": "python",
   "nbconvert_exporter": "python",
   "pygments_lexer": "ipython3",
   "version": "3.11.9"
  }
 },
 "nbformat": 4,
 "nbformat_minor": 2
}
