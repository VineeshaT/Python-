{
 "cells": [
  {
   "cell_type": "code",
   "execution_count": 2,
   "metadata": {},
   "outputs": [
    {
     "name": "stdout",
     "output_type": "stream",
     "text": [
      "8\n"
     ]
    }
   ],
   "source": [
    "cube = lambda c: c*c*c #Value cube\n",
    "\n",
    "print(cube(2))"
   ]
  },
  {
   "cell_type": "code",
   "execution_count": 4,
   "metadata": {},
   "outputs": [
    {
     "name": "stdout",
     "output_type": "stream",
     "text": [
      "[12, 54]\n"
     ]
    }
   ],
   "source": [
    "num = [3,7,12,54,33,87,99]\n",
    "\n",
    "result = list(filter(lambda x:x%2 == 0, num))\n",
    "\n",
    "print(result)"
   ]
  },
  {
   "cell_type": "code",
   "execution_count": 5,
   "metadata": {},
   "outputs": [
    {
     "name": "stdout",
     "output_type": "stream",
     "text": [
      "[6, 14, 24, 108, 66, 174, 198]\n"
     ]
    }
   ],
   "source": [
    "num = [3,7,12,54,33,87,99]\n",
    "\n",
    "result = list(map(lambda x: x*2, num))\n",
    "\n",
    "print(result)"
   ]
  },
  {
   "cell_type": "code",
   "execution_count": 7,
   "metadata": {},
   "outputs": [
    {
     "name": "stdout",
     "output_type": "stream",
     "text": [
      "[15, 19, 24, 66, 45, 99, 111]\n"
     ]
    }
   ],
   "source": [
    "#Try to write a lambda code that adds 12 to any number passed in the function as an argument. \n",
    "\n",
    "num = [3,7,12,54,33,87,99]\n",
    "\n",
    "result = list(map(lambda x: x+12, num))\n",
    "\n",
    "print(result)"
   ]
  },
  {
   "cell_type": "code",
   "execution_count": 11,
   "metadata": {},
   "outputs": [
    {
     "name": "stdout",
     "output_type": "stream",
     "text": [
      "36\n"
     ]
    }
   ],
   "source": [
    "# Also, use the lambda function to multiply one argument ‘a’ with another argument ‘b’.\n",
    "\n",
    "result = lambda a,b: a*b\n",
    "\n",
    "print(result(12,3))\n"
   ]
  }
 ],
 "metadata": {
  "kernelspec": {
   "display_name": "Python 3",
   "language": "python",
   "name": "python3"
  },
  "language_info": {
   "codemirror_mode": {
    "name": "ipython",
    "version": 3
   },
   "file_extension": ".py",
   "mimetype": "text/x-python",
   "name": "python",
   "nbconvert_exporter": "python",
   "pygments_lexer": "ipython3",
   "version": "3.8.10"
  }
 },
 "nbformat": 4,
 "nbformat_minor": 2
}
