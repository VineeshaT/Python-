{
 "cells": [
  {
   "cell_type": "code",
   "execution_count": 12,
   "metadata": {},
   "outputs": [
    {
     "name": "stdout",
     "output_type": "stream",
     "text": [
      "The distance from -4 to 0 = 4\n",
      "The distance from -2 to 0 = 2\n",
      "The distance from 1 to 0 = 1\n",
      "The distance from 4 to 0 = 4\n",
      "The distance from 8 to 0 = 8\n",
      "The closest value to 0: 1\n"
     ]
    }
   ],
   "source": [
    "nums = [-4, -2, 1, 4, 8]\n",
    "\n",
    "for i in nums:\n",
    "    absolute_value = abs(i)\n",
    "    print(f\"The distance from {i} to 0 = {absolute_value}\")\n",
    "    \n",
    "closest_value = min(nums, key=lambda x: (abs(x), -x))\n",
    "print(f\"The closest value to 0: {closest_value}\")"
   ]
  },
  {
   "cell_type": "code",
   "execution_count": 13,
   "metadata": {},
   "outputs": [
    {
     "name": "stdout",
     "output_type": "stream",
     "text": [
      "The distance from -4 to 0 = 4\n",
      "The distance from -2 to 0 = 2\n",
      "The distance from 1 to 0 = 1\n",
      "The distance from 4 to 0 = 4\n",
      "The distance from 8 to 0 = 8\n",
      "The closest value to 0 in the array is: 1\n"
     ]
    }
   ],
   "source": [
    "class Solution:\n",
    "    def findClosestNumber(self, nums):\n",
    "        return min(nums, key=lambda x: (abs(x), -x))\n",
    "\n",
    "nums = [-4, -2, 1, 4, 8]\n",
    "\n",
    "for i in nums:\n",
    "    absolute_value = abs(i)\n",
    "    print(f\"The distance from {i} to 0 = {absolute_value}\")\n",
    "    \n",
    "closest_value = min(nums, key=lambda x: (abs(x), -x))\n",
    "print(f\"The closest value to 0 in the array is: {closest_value}\")"
   ]
  },
  {
   "cell_type": "code",
   "execution_count": 17,
   "metadata": {},
   "outputs": [],
   "source": [
    "from typing import List  # Import List from the typing module\n",
    "\n",
    "class Solution:\n",
    "    def findClosestNumber(self, nums: List[int]) -> int:\n",
    "        ans, d = 0, float('inf')  # Use float('inf') to represent infinity\n",
    "        for x in nums:\n",
    "            if (y := abs(x)) < d or (y == d and x > ans):\n",
    "                ans, d = x, y\n",
    "        return ans\n"
   ]
  }
 ],
 "metadata": {
  "kernelspec": {
   "display_name": "Python 3",
   "language": "python",
   "name": "python3"
  },
  "language_info": {
   "codemirror_mode": {
    "name": "ipython",
    "version": 3
   },
   "file_extension": ".py",
   "mimetype": "text/x-python",
   "name": "python",
   "nbconvert_exporter": "python",
   "pygments_lexer": "ipython3",
   "version": "3.8.10"
  }
 },
 "nbformat": 4,
 "nbformat_minor": 2
}
