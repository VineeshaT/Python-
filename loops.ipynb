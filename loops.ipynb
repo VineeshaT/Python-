{
 "cells": [
  {
   "cell_type": "code",
   "execution_count": 1,
   "metadata": {},
   "outputs": [
    {
     "name": "stdout",
     "output_type": "stream",
     "text": [
      "1\n",
      "4\n",
      "7\n",
      "9\n",
      "13\n",
      "17\n"
     ]
    }
   ],
   "source": [
    "x = [1, 4, 7, 9, 13, 17]\n",
    "\n",
    "for i in range(len(x)):\n",
    "    print(x[i])\n"
   ]
  },
  {
   "cell_type": "code",
   "execution_count": 12,
   "metadata": {},
   "outputs": [
    {
     "name": "stdout",
     "output_type": "stream",
     "text": [
      "8\n",
      "[600, 100, 400, 150, 350, 200, 300, 250]\n"
     ]
    }
   ],
   "source": [
    "x = [100,150,200,250,300,350,400]\n",
    "\n",
    "print(len(x))\n",
    "#opt = [350,100,300,150,250,200]\n",
    "opt = []\n",
    "\n",
    "for i in range(len(x)//2):\n",
    "    opt.append(x[len(x)-1-i]) #It prints the value as len(x) is 6, so 6-1-i, here i value changes every time in the loop\n",
    "    opt.append(x[i])\n",
    "\n",
    "print(opt)\n"
   ]
  }
 ],
 "metadata": {
  "kernelspec": {
   "display_name": "Python 3",
   "language": "python",
   "name": "python3"
  },
  "language_info": {
   "codemirror_mode": {
    "name": "ipython",
    "version": 3
   },
   "file_extension": ".py",
   "mimetype": "text/x-python",
   "name": "python",
   "nbconvert_exporter": "python",
   "pygments_lexer": "ipython3",
   "version": "3.8.10"
  }
 },
 "nbformat": 4,
 "nbformat_minor": 2
}
